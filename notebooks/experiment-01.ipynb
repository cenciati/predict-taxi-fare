{
 "cells": [
  {
   "attachments": {},
   "cell_type": "markdown",
   "metadata": {},
   "source": [
    "# 0. Imports"
   ]
  },
  {
   "attachments": {},
   "cell_type": "markdown",
   "metadata": {},
   "source": [
    "## 0.1. Libraries and configs"
   ]
  },
  {
   "cell_type": "code",
   "execution_count": 1,
   "metadata": {},
   "outputs": [
    {
     "data": {
      "text/html": [
       "<pre style=\"white-space:pre;overflow-x:auto;line-height:normal;font-family:Menlo,'DejaVu Sans Mono',consolas,'Courier New',monospace\"><span style=\"color: #7fbfbf; text-decoration-color: #7fbfbf\">[02/26/23 11:51:24] </span><span style=\"color: #000080; text-decoration-color: #000080\">INFO    </span> Jupyter has been successfully configured.                                  <a href=\"file:///home/sheep/documents/repos/predict-taxi-tip-amount/notebooks/../src/utils.py\" target=\"_blank\"><span style=\"color: #7f7f7f; text-decoration-color: #7f7f7f\">utils.py</span></a><span style=\"color: #7f7f7f; text-decoration-color: #7f7f7f\">:</span><a href=\"file:///home/sheep/documents/repos/predict-taxi-tip-amount/notebooks/../src/utils.py#57\" target=\"_blank\"><span style=\"color: #7f7f7f; text-decoration-color: #7f7f7f\">57</span></a>\n",
       "</pre>\n"
      ],
      "text/plain": [
       "\u001b[2;36m[02/26/23 11:51:24]\u001b[0m\u001b[2;36m \u001b[0m\u001b[34mINFO    \u001b[0m Jupyter has been successfully configured.                                  \u001b]8;id=271493;file:///home/sheep/documents/repos/predict-taxi-tip-amount/notebooks/../src/utils.py\u001b\\\u001b[2mutils.py\u001b[0m\u001b]8;;\u001b\\\u001b[2m:\u001b[0m\u001b]8;id=536110;file:///home/sheep/documents/repos/predict-taxi-tip-amount/notebooks/../src/utils.py#57\u001b\\\u001b[2m57\u001b[0m\u001b]8;;\u001b\\\n"
      ]
     },
     "metadata": {},
     "output_type": "display_data"
    }
   ],
   "source": [
    "# Bult-in\n",
    "import os\n",
    "from sys import path\n",
    "path.append(os.path.join(\"..\"))\n",
    "from typing import Dict, List, Sequence\n",
    "\n",
    "# Installed\n",
    "from inflection import underscore\n",
    "import pandas as pd\n",
    "import numpy as np\n",
    "from matplotlib import pyplot as plt\n",
    "import seaborn as sns\n",
    "from sklearn.base import TransformerMixin, RegressorMixin\n",
    "from sklearn.ensemble import HistGradientBoostingRegressor \n",
    "from sklearn.feature_extraction import DictVectorizer\n",
    "from sklearn.model_selection import train_test_split\n",
    "from sklearn import metrics as m\n",
    "\n",
    "# Custom\n",
    "from src.utils import set_jupyter_settings\n",
    "set_jupyter_settings(filterwarnings=True)\n",
    "from src.database.data_ingestion import ingest_data_into_database"
   ]
  },
  {
   "cell_type": "code",
   "execution_count": 2,
   "metadata": {},
   "outputs": [],
   "source": [
    "CONNECTION_STRING: str | None = os.getenv(\"CONNECTION_STRING\")\n",
    "DATA_DIR: str = os.path.join(\"..\", \"data\")"
   ]
  },
  {
   "attachments": {},
   "cell_type": "markdown",
   "metadata": {},
   "source": [
    "## 0.2. Helper functions"
   ]
  },
  {
   "cell_type": "code",
   "execution_count": null,
   "metadata": {},
   "outputs": [],
   "source": []
  },
  {
   "attachments": {},
   "cell_type": "markdown",
   "metadata": {},
   "source": [
    "## 0.3. Data acquisition\n",
    "Data source: [TLC Trip Record Data](https://www.nyc.gov/site/tlc/about/tlc-trip-record-data.page)"
   ]
  },
  {
   "cell_type": "code",
   "execution_count": 3,
   "metadata": {},
   "outputs": [
    {
     "data": {
      "text/html": [
       "<pre style=\"white-space:pre;overflow-x:auto;line-height:normal;font-family:Menlo,'DejaVu Sans Mono',consolas,'Courier New',monospace\"><span style=\"color: #7fbfbf; text-decoration-color: #7fbfbf\">[02/26/23 11:51:36] </span><span style=\"color: #000080; text-decoration-color: #000080\">INFO    </span> Ingesting <span style=\"color: #008080; text-decoration-color: #008080; font-weight: bold\">131894</span> records into the database<span style=\"color: #808000; text-decoration-color: #808000\">...</span>                     <a href=\"file:///home/sheep/documents/repos/predict-taxi-tip-amount/notebooks/../src/database/data_ingestion.py\" target=\"_blank\"><span style=\"color: #7f7f7f; text-decoration-color: #7f7f7f\">data_ingestion.py</span></a><span style=\"color: #7f7f7f; text-decoration-color: #7f7f7f\">:</span><a href=\"file:///home/sheep/documents/repos/predict-taxi-tip-amount/notebooks/../src/database/data_ingestion.py#26\" target=\"_blank\"><span style=\"color: #7f7f7f; text-decoration-color: #7f7f7f\">26</span></a>\n",
       "</pre>\n"
      ],
      "text/plain": [
       "\u001b[2;36m[02/26/23 11:51:36]\u001b[0m\u001b[2;36m \u001b[0m\u001b[34mINFO    \u001b[0m Ingesting \u001b[1;36m131894\u001b[0m records into the database\u001b[33m...\u001b[0m                     \u001b]8;id=499748;file:///home/sheep/documents/repos/predict-taxi-tip-amount/notebooks/../src/database/data_ingestion.py\u001b\\\u001b[2mdata_ingestion.py\u001b[0m\u001b]8;;\u001b\\\u001b[2m:\u001b[0m\u001b]8;id=375441;file:///home/sheep/documents/repos/predict-taxi-tip-amount/notebooks/../src/database/data_ingestion.py#26\u001b\\\u001b[2m26\u001b[0m\u001b]8;;\u001b\\\n"
      ]
     },
     "metadata": {},
     "output_type": "display_data"
    },
    {
     "data": {
      "text/html": [
       "<pre style=\"white-space:pre;overflow-x:auto;line-height:normal;font-family:Menlo,'DejaVu Sans Mono',consolas,'Courier New',monospace\"><span style=\"color: #7fbfbf; text-decoration-color: #7fbfbf\">[02/26/23 11:51:51] </span><span style=\"color: #000080; text-decoration-color: #000080\">INFO    </span> Data ingestion completed.                                         <a href=\"file:///home/sheep/documents/repos/predict-taxi-tip-amount/notebooks/../src/database/data_ingestion.py\" target=\"_blank\"><span style=\"color: #7f7f7f; text-decoration-color: #7f7f7f\">data_ingestion.py</span></a><span style=\"color: #7f7f7f; text-decoration-color: #7f7f7f\">:</span><a href=\"file:///home/sheep/documents/repos/predict-taxi-tip-amount/notebooks/../src/database/data_ingestion.py#69\" target=\"_blank\"><span style=\"color: #7f7f7f; text-decoration-color: #7f7f7f\">69</span></a>\n",
       "</pre>\n"
      ],
      "text/plain": [
       "\u001b[2;36m[02/26/23 11:51:51]\u001b[0m\u001b[2;36m \u001b[0m\u001b[34mINFO    \u001b[0m Data ingestion completed.                                         \u001b]8;id=146039;file:///home/sheep/documents/repos/predict-taxi-tip-amount/notebooks/../src/database/data_ingestion.py\u001b\\\u001b[2mdata_ingestion.py\u001b[0m\u001b]8;;\u001b\\\u001b[2m:\u001b[0m\u001b]8;id=295528;file:///home/sheep/documents/repos/predict-taxi-tip-amount/notebooks/../src/database/data_ingestion.py#69\u001b\\\u001b[2m69\u001b[0m\u001b]8;;\u001b\\\n"
      ]
     },
     "metadata": {},
     "output_type": "display_data"
    }
   ],
   "source": [
    "ingest_data_into_database(\n",
    "    connection_string=CONNECTION_STRING,\n",
    "    data_directory=DATA_DIR,\n",
    "    files=[\n",
    "        \"green_tripdata_2022-01.parquet\",\n",
    "        \"green_tripdata_2022-02.parquet\",\n",
    "    ]\n",
    ")"
   ]
  },
  {
   "cell_type": "code",
   "execution_count": 26,
   "metadata": {},
   "outputs": [
    {
     "data": {
      "text/html": [
       "<div>\n",
       "<style scoped>\n",
       "    .dataframe tbody tr th:only-of-type {\n",
       "        vertical-align: middle;\n",
       "    }\n",
       "\n",
       "    .dataframe tbody tr th {\n",
       "        vertical-align: top;\n",
       "    }\n",
       "\n",
       "    .dataframe thead th {\n",
       "        text-align: right;\n",
       "    }\n",
       "</style>\n",
       "<table border=\"1\" class=\"dataframe\">\n",
       "  <thead>\n",
       "    <tr style=\"text-align: right;\">\n",
       "      <th></th>\n",
       "      <th>id</th>\n",
       "      <th>VendorID</th>\n",
       "      <th>lpep_pickup_datetime</th>\n",
       "      <th>lpep_dropoff_datetime</th>\n",
       "      <th>store_and_fwd_flag</th>\n",
       "      <th>RatecodeID</th>\n",
       "      <th>PULocationID</th>\n",
       "      <th>DOLocationID</th>\n",
       "      <th>passenger_count</th>\n",
       "      <th>trip_distance</th>\n",
       "      <th>fare_amount</th>\n",
       "      <th>extra</th>\n",
       "      <th>mta_tax</th>\n",
       "      <th>tip_amount</th>\n",
       "      <th>tolls_amount</th>\n",
       "      <th>ehail_fee</th>\n",
       "      <th>improvement_surcharge</th>\n",
       "      <th>total_amount</th>\n",
       "      <th>payment_type</th>\n",
       "      <th>trip_type</th>\n",
       "      <th>congestion_surcharge</th>\n",
       "    </tr>\n",
       "  </thead>\n",
       "  <tbody>\n",
       "    <tr>\n",
       "      <th>83995</th>\n",
       "      <td>83996</td>\n",
       "      <td>2</td>\n",
       "      <td>2022-02-10 18:54:42</td>\n",
       "      <td>2022-02-10 19:23:03</td>\n",
       "      <td>N</td>\n",
       "      <td>1.0</td>\n",
       "      <td>260</td>\n",
       "      <td>83</td>\n",
       "      <td>1.0</td>\n",
       "      <td>1.80</td>\n",
       "      <td>17.5</td>\n",
       "      <td>1.0</td>\n",
       "      <td>0.5</td>\n",
       "      <td>0.00</td>\n",
       "      <td>0.0</td>\n",
       "      <td>None</td>\n",
       "      <td>0.3</td>\n",
       "      <td>19.30</td>\n",
       "      <td>2.0</td>\n",
       "      <td>1.0</td>\n",
       "      <td>0.0</td>\n",
       "    </tr>\n",
       "    <tr>\n",
       "      <th>12371</th>\n",
       "      <td>12372</td>\n",
       "      <td>2</td>\n",
       "      <td>2022-01-07 20:19:22</td>\n",
       "      <td>2022-01-07 20:28:50</td>\n",
       "      <td>N</td>\n",
       "      <td>1.0</td>\n",
       "      <td>95</td>\n",
       "      <td>28</td>\n",
       "      <td>1.0</td>\n",
       "      <td>1.89</td>\n",
       "      <td>8.5</td>\n",
       "      <td>0.5</td>\n",
       "      <td>0.5</td>\n",
       "      <td>2.45</td>\n",
       "      <td>0.0</td>\n",
       "      <td>None</td>\n",
       "      <td>0.3</td>\n",
       "      <td>12.25</td>\n",
       "      <td>1.0</td>\n",
       "      <td>1.0</td>\n",
       "      <td>0.0</td>\n",
       "    </tr>\n",
       "    <tr>\n",
       "      <th>128751</th>\n",
       "      <td>128752</td>\n",
       "      <td>2</td>\n",
       "      <td>2022-02-15 21:10:00</td>\n",
       "      <td>2022-02-15 21:23:00</td>\n",
       "      <td>None</td>\n",
       "      <td>None</td>\n",
       "      <td>74</td>\n",
       "      <td>116</td>\n",
       "      <td>NaN</td>\n",
       "      <td>3.05</td>\n",
       "      <td>14.1</td>\n",
       "      <td>0.0</td>\n",
       "      <td>0.0</td>\n",
       "      <td>3.20</td>\n",
       "      <td>0.0</td>\n",
       "      <td>None</td>\n",
       "      <td>0.3</td>\n",
       "      <td>17.60</td>\n",
       "      <td>None</td>\n",
       "      <td>None</td>\n",
       "      <td>NaN</td>\n",
       "    </tr>\n",
       "  </tbody>\n",
       "</table>\n",
       "</div>"
      ],
      "text/plain": [
       "            id VendorID lpep_pickup_datetime lpep_dropoff_datetime  \\\n",
       "83995    83996        2  2022-02-10 18:54:42   2022-02-10 19:23:03   \n",
       "12371    12372        2  2022-01-07 20:19:22   2022-01-07 20:28:50   \n",
       "128751  128752        2  2022-02-15 21:10:00   2022-02-15 21:23:00   \n",
       "\n",
       "       store_and_fwd_flag RatecodeID PULocationID DOLocationID  \\\n",
       "83995                   N        1.0          260           83   \n",
       "12371                   N        1.0           95           28   \n",
       "128751               None       None           74          116   \n",
       "\n",
       "        passenger_count  trip_distance  fare_amount  extra  mta_tax  \\\n",
       "83995               1.0           1.80         17.5    1.0      0.5   \n",
       "12371               1.0           1.89          8.5    0.5      0.5   \n",
       "128751              NaN           3.05         14.1    0.0      0.0   \n",
       "\n",
       "        tip_amount  tolls_amount ehail_fee  improvement_surcharge  \\\n",
       "83995         0.00           0.0      None                    0.3   \n",
       "12371         2.45           0.0      None                    0.3   \n",
       "128751        3.20           0.0      None                    0.3   \n",
       "\n",
       "        total_amount payment_type trip_type  congestion_surcharge  \n",
       "83995          19.30          2.0       1.0                   0.0  \n",
       "12371          12.25          1.0       1.0                   0.0  \n",
       "128751         17.60         None      None                   NaN  "
      ]
     },
     "execution_count": 26,
     "metadata": {},
     "output_type": "execute_result"
    }
   ],
   "source": [
    "raw_data: pd.DataFrame = pd.read_sql(\"SELECT * FROM green_taxi\", CONNECTION_STRING)\n",
    "raw_data.sample(3)"
   ]
  },
  {
   "attachments": {},
   "cell_type": "markdown",
   "metadata": {},
   "source": [
    "# 1. Data cleansing and description"
   ]
  },
  {
   "attachments": {},
   "cell_type": "markdown",
   "metadata": {},
   "source": [
    "## Data dictionary\n",
    "Link: [Data dictionary trip records green](https://www.nyc.gov/assets/tlc/downloads/pdf/data_dictionary_trip_records_green.pdf)"
   ]
  },
  {
   "attachments": {},
   "cell_type": "markdown",
   "metadata": {},
   "source": [
    "## 1.1. Rename columns"
   ]
  },
  {
   "cell_type": "code",
   "execution_count": 27,
   "metadata": {},
   "outputs": [],
   "source": [
    "raw_data.columns = [underscore(column) for column in raw_data.columns]"
   ]
  },
  {
   "attachments": {},
   "cell_type": "markdown",
   "metadata": {},
   "source": [
    "## 1.2. Data dimensions"
   ]
  },
  {
   "cell_type": "code",
   "execution_count": 28,
   "metadata": {},
   "outputs": [
    {
     "name": "stdout",
     "output_type": "stream",
     "text": [
      "\n",
      "    Number of columns: 21\n",
      "    Number of rows: 131,894\n",
      "    \n"
     ]
    }
   ],
   "source": [
    "print(\n",
    "    f\"\"\"\n",
    "    Number of columns: {raw_data.shape[1]}\n",
    "    Number of rows: {raw_data.shape[0]:,}\n",
    "    \"\"\"\n",
    ")"
   ]
  },
  {
   "attachments": {},
   "cell_type": "markdown",
   "metadata": {},
   "source": [
    "## 1.3. Duplicate data"
   ]
  },
  {
   "cell_type": "code",
   "execution_count": 29,
   "metadata": {},
   "outputs": [
    {
     "data": {
      "text/plain": [
       "0"
      ]
     },
     "execution_count": 29,
     "metadata": {},
     "output_type": "execute_result"
    }
   ],
   "source": [
    "raw_data.duplicated().sum()"
   ]
  },
  {
   "attachments": {},
   "cell_type": "markdown",
   "metadata": {},
   "source": [
    "## 1.4. Data types"
   ]
  },
  {
   "cell_type": "code",
   "execution_count": 30,
   "metadata": {},
   "outputs": [
    {
     "name": "stdout",
     "output_type": "stream",
     "text": [
      "<class 'pandas.core.frame.DataFrame'>\n",
      "RangeIndex: 131894 entries, 0 to 131893\n",
      "Data columns (total 21 columns):\n",
      " #   Column                 Non-Null Count   Dtype         \n",
      "---  ------                 --------------   -----         \n",
      " 0   id                     131894 non-null  int64         \n",
      " 1   vendor_id              131894 non-null  object        \n",
      " 2   lpep_pickup_datetime   131894 non-null  datetime64[ns]\n",
      " 3   lpep_dropoff_datetime  131894 non-null  datetime64[ns]\n",
      " 4   store_and_fwd_flag     118178 non-null  object        \n",
      " 5   ratecode_id            118178 non-null  object        \n",
      " 6   pu_location_id         131894 non-null  object        \n",
      " 7   do_location_id         131894 non-null  object        \n",
      " 8   passenger_count        118178 non-null  float64       \n",
      " 9   trip_distance          131894 non-null  float64       \n",
      " 10  fare_amount            131894 non-null  float64       \n",
      " 11  extra                  131894 non-null  float64       \n",
      " 12  mta_tax                131894 non-null  float64       \n",
      " 13  tip_amount             131894 non-null  float64       \n",
      " 14  tolls_amount           131894 non-null  float64       \n",
      " 15  ehail_fee              0 non-null       object        \n",
      " 16  improvement_surcharge  131894 non-null  float64       \n",
      " 17  total_amount           131894 non-null  float64       \n",
      " 18  payment_type           118178 non-null  object        \n",
      " 19  trip_type              118178 non-null  object        \n",
      " 20  congestion_surcharge   118178 non-null  float64       \n",
      "dtypes: datetime64[ns](2), float64(10), int64(1), object(8)\n",
      "memory usage: 21.1+ MB\n"
     ]
    }
   ],
   "source": [
    "raw_data.info()"
   ]
  },
  {
   "attachments": {},
   "cell_type": "markdown",
   "metadata": {},
   "source": [
    "## 1.5. Missing data"
   ]
  },
  {
   "cell_type": "code",
   "execution_count": 31,
   "metadata": {},
   "outputs": [
    {
     "data": {
      "text/plain": [
       "id                            0\n",
       "vendor_id                     0\n",
       "lpep_pickup_datetime          0\n",
       "lpep_dropoff_datetime         0\n",
       "store_and_fwd_flag        13716\n",
       "ratecode_id               13716\n",
       "pu_location_id                0\n",
       "do_location_id                0\n",
       "passenger_count           13716\n",
       "trip_distance                 0\n",
       "fare_amount                   0\n",
       "extra                         0\n",
       "mta_tax                       0\n",
       "tip_amount                    0\n",
       "tolls_amount                  0\n",
       "ehail_fee                131894\n",
       "improvement_surcharge         0\n",
       "total_amount                  0\n",
       "payment_type              13716\n",
       "trip_type                 13716\n",
       "congestion_surcharge      13716\n",
       "dtype: int64"
      ]
     },
     "execution_count": 31,
     "metadata": {},
     "output_type": "execute_result"
    }
   ],
   "source": [
    "raw_data.isna().sum()"
   ]
  },
  {
   "cell_type": "code",
   "execution_count": 32,
   "metadata": {},
   "outputs": [],
   "source": [
    "remove_rows_because_of_null_values: List[str] = [\n",
    "    \"store_and_fwd_flag\", \"passenger_count\",\n",
    "    \"payment_type\", \"trip_type\", \"congestion_surcharge\"\n",
    "]\n",
    "raw_data.dropna(subset=remove_rows_because_of_null_values, axis=0, inplace=True)"
   ]
  },
  {
   "attachments": {},
   "cell_type": "markdown",
   "metadata": {},
   "source": [
    "## 1.6. Outliers"
   ]
  },
  {
   "cell_type": "code",
   "execution_count": 33,
   "metadata": {},
   "outputs": [
    {
     "data": {
      "image/png": "[encoded data removed]",
      "text/plain": [
       "<Figure size 2400x1800 with 10 Axes>"
      ]
     },
     "metadata": {},
     "output_type": "display_data"
    }
   ],
   "source": [
    "might_have_outlier_columns: List[str] = [\n",
    "    \"passenger_count\", \"trip_distance\", \"fare_amount\",\n",
    "    \"extra\", \"mta_tax\", \"tip_amount\", \"tolls_amount\",\n",
    "    \"improvement_surcharge\", \"total_amount\", \"congestion_surcharge\"\n",
    "]\n",
    "_, ax = plt.subplots(\n",
    "    nrows=len(might_have_outlier_columns),\n",
    "    ncols=1,\n",
    "    figsize=(24,18)\n",
    ")\n",
    "for idx, column in enumerate(might_have_outlier_columns):\n",
    "    sns.boxplot(x=column, data=raw_data, ax=ax[idx]);\n",
    "    plt.tight_layout()"
   ]
  },
  {
   "cell_type": "code",
   "execution_count": 34,
   "metadata": {},
   "outputs": [
    {
     "name": "stdout",
     "output_type": "stream",
     "text": [
      "Before: 118,178\n",
      "After: 63,337\n"
     ]
    }
   ],
   "source": [
    "print(f\"Before: {len(raw_data):,}\")\n",
    "for column in might_have_outlier_columns:\n",
    "    q75, q25 = np.percentile(raw_data.loc[:, column], 75), np.percentile(raw_data.loc[:, column], 25)\n",
    "    iqr: float = q75 - q25\n",
    "    cut_off: float = 1.5 * iqr # 1.5 outlier rule\n",
    "    lower, upper = q25 - cut_off, q75 + cut_off\n",
    "    mask: List[bool] = [False if x < lower or x > upper else True for x in raw_data.loc[:, column]]\n",
    "    raw_data: pd.DataFrame = raw_data.loc[mask, :]\n",
    "print(f\"After: {len(raw_data):,}\")"
   ]
  },
  {
   "attachments": {},
   "cell_type": "markdown",
   "metadata": {},
   "source": [
    "## 1.7. Descriptive statistics"
   ]
  },
  {
   "cell_type": "code",
   "execution_count": 35,
   "metadata": {},
   "outputs": [],
   "source": [
    "numerical_attributes: pd.DataFrame = raw_data.select_dtypes(include=[\"int\", \"float\"])\n",
    "categorical_attributes: pd.DataFrame = raw_data.select_dtypes(include=[\"object\", \"category\"])"
   ]
  },
  {
   "attachments": {},
   "cell_type": "markdown",
   "metadata": {},
   "source": [
    "### 1.7.1. Numerical attributes"
   ]
  },
  {
   "cell_type": "code",
   "execution_count": 36,
   "metadata": {},
   "outputs": [
    {
     "data": {
      "text/html": [
       "<div>\n",
       "<style scoped>\n",
       "    .dataframe tbody tr th:only-of-type {\n",
       "        vertical-align: middle;\n",
       "    }\n",
       "\n",
       "    .dataframe tbody tr th {\n",
       "        vertical-align: top;\n",
       "    }\n",
       "\n",
       "    .dataframe thead th {\n",
       "        text-align: right;\n",
       "    }\n",
       "</style>\n",
       "<table border=\"1\" class=\"dataframe\">\n",
       "  <thead>\n",
       "    <tr style=\"text-align: right;\">\n",
       "      <th></th>\n",
       "      <th>Mean</th>\n",
       "      <th>Median</th>\n",
       "      <th>Std. deviation</th>\n",
       "      <th>Min</th>\n",
       "      <th>Max</th>\n",
       "      <th>Range</th>\n",
       "      <th>Skew</th>\n",
       "      <th>Kurtosis</th>\n",
       "    </tr>\n",
       "  </thead>\n",
       "  <tbody>\n",
       "    <tr>\n",
       "      <th>id</th>\n",
       "      <td>62001.834567</td>\n",
       "      <td>65005.00</td>\n",
       "      <td>3.665450e+04</td>\n",
       "      <td>1.0</td>\n",
       "      <td>124472.00</td>\n",
       "      <td>124471.00</td>\n",
       "      <td>-0.002809</td>\n",
       "      <td>-1.273839</td>\n",
       "    </tr>\n",
       "    <tr>\n",
       "      <th>passenger_count</th>\n",
       "      <td>1.000000</td>\n",
       "      <td>1.00</td>\n",
       "      <td>0.000000e+00</td>\n",
       "      <td>1.0</td>\n",
       "      <td>1.00</td>\n",
       "      <td>0.00</td>\n",
       "      <td>0.000000</td>\n",
       "      <td>0.000000</td>\n",
       "    </tr>\n",
       "    <tr>\n",
       "      <th>trip_distance</th>\n",
       "      <td>1.721834</td>\n",
       "      <td>1.43</td>\n",
       "      <td>1.190340e+00</td>\n",
       "      <td>0.0</td>\n",
       "      <td>6.43</td>\n",
       "      <td>6.43</td>\n",
       "      <td>1.271246</td>\n",
       "      <td>1.721701</td>\n",
       "    </tr>\n",
       "    <tr>\n",
       "      <th>fare_amount</th>\n",
       "      <td>9.188221</td>\n",
       "      <td>8.00</td>\n",
       "      <td>4.251891e+00</td>\n",
       "      <td>0.0</td>\n",
       "      <td>24.00</td>\n",
       "      <td>24.00</td>\n",
       "      <td>1.006917</td>\n",
       "      <td>0.665416</td>\n",
       "    </tr>\n",
       "    <tr>\n",
       "      <th>extra</th>\n",
       "      <td>0.302019</td>\n",
       "      <td>0.00</td>\n",
       "      <td>4.098310e-01</td>\n",
       "      <td>0.0</td>\n",
       "      <td>1.00</td>\n",
       "      <td>1.00</td>\n",
       "      <td>0.842958</td>\n",
       "      <td>-0.990026</td>\n",
       "    </tr>\n",
       "    <tr>\n",
       "      <th>mta_tax</th>\n",
       "      <td>0.500000</td>\n",
       "      <td>0.50</td>\n",
       "      <td>0.000000e+00</td>\n",
       "      <td>0.5</td>\n",
       "      <td>0.50</td>\n",
       "      <td>0.00</td>\n",
       "      <td>0.000000</td>\n",
       "      <td>0.000000</td>\n",
       "    </tr>\n",
       "    <tr>\n",
       "      <th>tip_amount</th>\n",
       "      <td>0.992139</td>\n",
       "      <td>0.00</td>\n",
       "      <td>1.241929e+00</td>\n",
       "      <td>0.0</td>\n",
       "      <td>5.75</td>\n",
       "      <td>5.75</td>\n",
       "      <td>1.019500</td>\n",
       "      <td>0.238969</td>\n",
       "    </tr>\n",
       "    <tr>\n",
       "      <th>tolls_amount</th>\n",
       "      <td>0.000000</td>\n",
       "      <td>0.00</td>\n",
       "      <td>0.000000e+00</td>\n",
       "      <td>0.0</td>\n",
       "      <td>0.00</td>\n",
       "      <td>0.00</td>\n",
       "      <td>0.000000</td>\n",
       "      <td>0.000000</td>\n",
       "    </tr>\n",
       "    <tr>\n",
       "      <th>improvement_surcharge</th>\n",
       "      <td>0.300000</td>\n",
       "      <td>0.30</td>\n",
       "      <td>5.551115e-17</td>\n",
       "      <td>0.3</td>\n",
       "      <td>0.30</td>\n",
       "      <td>0.00</td>\n",
       "      <td>0.000000</td>\n",
       "      <td>0.000000</td>\n",
       "    </tr>\n",
       "    <tr>\n",
       "      <th>total_amount</th>\n",
       "      <td>11.282842</td>\n",
       "      <td>10.30</td>\n",
       "      <td>4.629831e+00</td>\n",
       "      <td>0.8</td>\n",
       "      <td>28.00</td>\n",
       "      <td>27.20</td>\n",
       "      <td>0.850760</td>\n",
       "      <td>0.386300</td>\n",
       "    </tr>\n",
       "    <tr>\n",
       "      <th>congestion_surcharge</th>\n",
       "      <td>0.000000</td>\n",
       "      <td>0.00</td>\n",
       "      <td>0.000000e+00</td>\n",
       "      <td>0.0</td>\n",
       "      <td>0.00</td>\n",
       "      <td>0.00</td>\n",
       "      <td>0.000000</td>\n",
       "      <td>0.000000</td>\n",
       "    </tr>\n",
       "  </tbody>\n",
       "</table>\n",
       "</div>"
      ],
      "text/plain": [
       "                               Mean    Median  Std. deviation  Min        Max  \\\n",
       "id                     62001.834567  65005.00    3.665450e+04  1.0  124472.00   \n",
       "passenger_count            1.000000      1.00    0.000000e+00  1.0       1.00   \n",
       "trip_distance              1.721834      1.43    1.190340e+00  0.0       6.43   \n",
       "fare_amount                9.188221      8.00    4.251891e+00  0.0      24.00   \n",
       "extra                      0.302019      0.00    4.098310e-01  0.0       1.00   \n",
       "mta_tax                    0.500000      0.50    0.000000e+00  0.5       0.50   \n",
       "tip_amount                 0.992139      0.00    1.241929e+00  0.0       5.75   \n",
       "tolls_amount               0.000000      0.00    0.000000e+00  0.0       0.00   \n",
       "improvement_surcharge      0.300000      0.30    5.551115e-17  0.3       0.30   \n",
       "total_amount              11.282842     10.30    4.629831e+00  0.8      28.00   \n",
       "congestion_surcharge       0.000000      0.00    0.000000e+00  0.0       0.00   \n",
       "\n",
       "                           Range      Skew  Kurtosis  \n",
       "id                     124471.00 -0.002809 -1.273839  \n",
       "passenger_count             0.00  0.000000  0.000000  \n",
       "trip_distance               6.43  1.271246  1.721701  \n",
       "fare_amount                24.00  1.006917  0.665416  \n",
       "extra                       1.00  0.842958 -0.990026  \n",
       "mta_tax                     0.00  0.000000  0.000000  \n",
       "tip_amount                  5.75  1.019500  0.238969  \n",
       "tolls_amount                0.00  0.000000  0.000000  \n",
       "improvement_surcharge       0.00  0.000000  0.000000  \n",
       "total_amount               27.20  0.850760  0.386300  \n",
       "congestion_surcharge        0.00  0.000000  0.000000  "
      ]
     },
     "execution_count": 36,
     "metadata": {},
     "output_type": "execute_result"
    }
   ],
   "source": [
    "# Calculate central tendency and dispersion metrics\n",
    "numerical_attributes_description = pd.DataFrame({\n",
    "    \"Mean\": numerical_attributes.apply(np.mean),\n",
    "    \"Median\": numerical_attributes.apply(np.median),\n",
    "    \"Std. deviation\": numerical_attributes.apply(np.std),\n",
    "    \"Min\": numerical_attributes.apply(np.min),\n",
    "    \"Max\": numerical_attributes.apply(np.max),\n",
    "    \"Range\": numerical_attributes.apply(lambda x: np.max(x) - np.min(x)),\n",
    "    \"Skew\": numerical_attributes.apply(lambda x: x.skew()),\n",
    "    \"Kurtosis\": numerical_attributes.apply(lambda x: x.kurtosis())\n",
    "})\n",
    "numerical_attributes_description"
   ]
  },
  {
   "attachments": {},
   "cell_type": "markdown",
   "metadata": {},
   "source": [
    "### 1.7.2. Categorical attributes"
   ]
  },
  {
   "cell_type": "code",
   "execution_count": 37,
   "metadata": {},
   "outputs": [
    {
     "data": {
      "text/html": [
       "<div>\n",
       "<style scoped>\n",
       "    .dataframe tbody tr th:only-of-type {\n",
       "        vertical-align: middle;\n",
       "    }\n",
       "\n",
       "    .dataframe tbody tr th {\n",
       "        vertical-align: top;\n",
       "    }\n",
       "\n",
       "    .dataframe thead th {\n",
       "        text-align: right;\n",
       "    }\n",
       "</style>\n",
       "<table border=\"1\" class=\"dataframe\">\n",
       "  <thead>\n",
       "    <tr style=\"text-align: right;\">\n",
       "      <th></th>\n",
       "      <th>count</th>\n",
       "      <th>unique</th>\n",
       "      <th>top</th>\n",
       "      <th>freq</th>\n",
       "    </tr>\n",
       "  </thead>\n",
       "  <tbody>\n",
       "    <tr>\n",
       "      <th>vendor_id</th>\n",
       "      <td>63337</td>\n",
       "      <td>2</td>\n",
       "      <td>2</td>\n",
       "      <td>53313</td>\n",
       "    </tr>\n",
       "    <tr>\n",
       "      <th>store_and_fwd_flag</th>\n",
       "      <td>63337</td>\n",
       "      <td>2</td>\n",
       "      <td>N</td>\n",
       "      <td>62650</td>\n",
       "    </tr>\n",
       "    <tr>\n",
       "      <th>ratecode_id</th>\n",
       "      <td>63337</td>\n",
       "      <td>5</td>\n",
       "      <td>1.0</td>\n",
       "      <td>63257</td>\n",
       "    </tr>\n",
       "    <tr>\n",
       "      <th>pu_location_id</th>\n",
       "      <td>63337</td>\n",
       "      <td>185</td>\n",
       "      <td>74</td>\n",
       "      <td>11394</td>\n",
       "    </tr>\n",
       "    <tr>\n",
       "      <th>do_location_id</th>\n",
       "      <td>63337</td>\n",
       "      <td>217</td>\n",
       "      <td>74</td>\n",
       "      <td>5410</td>\n",
       "    </tr>\n",
       "    <tr>\n",
       "      <th>ehail_fee</th>\n",
       "      <td>0</td>\n",
       "      <td>0</td>\n",
       "      <td>NaN</td>\n",
       "      <td>NaN</td>\n",
       "    </tr>\n",
       "    <tr>\n",
       "      <th>payment_type</th>\n",
       "      <td>63337</td>\n",
       "      <td>4</td>\n",
       "      <td>1.0</td>\n",
       "      <td>35122</td>\n",
       "    </tr>\n",
       "    <tr>\n",
       "      <th>trip_type</th>\n",
       "      <td>63337</td>\n",
       "      <td>2</td>\n",
       "      <td>1.0</td>\n",
       "      <td>63326</td>\n",
       "    </tr>\n",
       "  </tbody>\n",
       "</table>\n",
       "</div>"
      ],
      "text/plain": [
       "                    count unique  top   freq\n",
       "vendor_id           63337      2    2  53313\n",
       "store_and_fwd_flag  63337      2    N  62650\n",
       "ratecode_id         63337      5  1.0  63257\n",
       "pu_location_id      63337    185   74  11394\n",
       "do_location_id      63337    217   74   5410\n",
       "ehail_fee               0      0  NaN    NaN\n",
       "payment_type        63337      4  1.0  35122\n",
       "trip_type           63337      2  1.0  63326"
      ]
     },
     "execution_count": 37,
     "metadata": {},
     "output_type": "execute_result"
    }
   ],
   "source": [
    "categorical_attributes.describe().T"
   ]
  },
  {
   "attachments": {},
   "cell_type": "markdown",
   "metadata": {},
   "source": [
    "# 2. Feature engineering"
   ]
  },
  {
   "attachments": {},
   "cell_type": "markdown",
   "metadata": {},
   "source": [
    "## 2.1. Phenomenon modeling"
   ]
  },
  {
   "cell_type": "code",
   "execution_count": 38,
   "metadata": {},
   "outputs": [],
   "source": [
    "raw_data[\"duration\"] = raw_data.loc[:, \"lpep_dropoff_datetime\"] - raw_data.loc[:, \"lpep_pickup_datetime\"]\n",
    "raw_data[\"duration\"] = raw_data.loc[:, \"duration\"].dt.seconds / 60"
   ]
  },
  {
   "cell_type": "code",
   "execution_count": 39,
   "metadata": {},
   "outputs": [],
   "source": [
    "raw_data[\"location_id\"] = raw_data.loc[:, \"pu_location_id\"] + raw_data.loc[:, \"do_location_id\"]\n",
    "raw_data[\"price_per_meter\"] = raw_data.loc[:, \"trip_distance\"] / (raw_data.loc[:, \"fare_amount\"] + 1)\n",
    "raw_data[\"tax_per_meter\"] = raw_data.loc[:, \"trip_distance\"] * raw_data.loc[:, \"mta_tax\"]\n",
    "raw_data[\"total_amount_per_extra\"] = raw_data.loc[:, \"total_amount\"] / (raw_data.loc[:, \"extra\"] + 1)"
   ]
  },
  {
   "attachments": {},
   "cell_type": "markdown",
   "metadata": {},
   "source": [
    "## 2.2. Filtering"
   ]
  },
  {
   "cell_type": "code",
   "execution_count": 40,
   "metadata": {},
   "outputs": [],
   "source": [
    "irrelevant_columns_to_drop: List[str] = [\n",
    "    \"ehail_fee\", \"passenger_count\", \"tolls_amount\",\n",
    "    \"improvement_surcharge\", \"congestion_surcharge\"\n",
    "]\n",
    "raw_data.drop(irrelevant_columns_to_drop, axis=1, inplace=True)"
   ]
  },
  {
   "cell_type": "code",
   "execution_count": 45,
   "metadata": {},
   "outputs": [],
   "source": [
    "raw_data = raw_data.loc[(raw_data.loc[:, \"duration\"] >= 1) & (raw_data.loc[:, \"duration\"] <= 60), :]"
   ]
  },
  {
   "attachments": {},
   "cell_type": "markdown",
   "metadata": {},
   "source": [
    "## Checkpoint"
   ]
  },
  {
   "cell_type": "code",
   "execution_count": 48,
   "metadata": {},
   "outputs": [],
   "source": [
    "CHECKPOINT_DIR: str = os.path.join(DATA_DIR, \"interim\", \"cleaned_train_data.parquet\")\n",
    "raw_data.to_parquet(CHECKPOINT_DIR)\n",
    "del raw_data # Remove dirty data from memory\n",
    "df: pd.DataFrame = pd.read_parquet(CHECKPOINT_DIR)"
   ]
  },
  {
   "cell_type": "code",
   "execution_count": 50,
   "metadata": {},
   "outputs": [
    {
     "data": {
      "text/html": [
       "<div>\n",
       "<style scoped>\n",
       "    .dataframe tbody tr th:only-of-type {\n",
       "        vertical-align: middle;\n",
       "    }\n",
       "\n",
       "    .dataframe tbody tr th {\n",
       "        vertical-align: top;\n",
       "    }\n",
       "\n",
       "    .dataframe thead th {\n",
       "        text-align: right;\n",
       "    }\n",
       "</style>\n",
       "<table border=\"1\" class=\"dataframe\">\n",
       "  <thead>\n",
       "    <tr style=\"text-align: right;\">\n",
       "      <th></th>\n",
       "      <th>id</th>\n",
       "      <th>vendor_id</th>\n",
       "      <th>lpep_pickup_datetime</th>\n",
       "      <th>lpep_dropoff_datetime</th>\n",
       "      <th>store_and_fwd_flag</th>\n",
       "      <th>ratecode_id</th>\n",
       "      <th>pu_location_id</th>\n",
       "      <th>do_location_id</th>\n",
       "      <th>trip_distance</th>\n",
       "      <th>fare_amount</th>\n",
       "      <th>extra</th>\n",
       "      <th>mta_tax</th>\n",
       "      <th>tip_amount</th>\n",
       "      <th>total_amount</th>\n",
       "      <th>payment_type</th>\n",
       "      <th>trip_type</th>\n",
       "      <th>duration</th>\n",
       "      <th>location_id</th>\n",
       "      <th>price_per_meter</th>\n",
       "      <th>tax_per_meter</th>\n",
       "      <th>total_amount_per_extra</th>\n",
       "    </tr>\n",
       "  </thead>\n",
       "  <tbody>\n",
       "    <tr>\n",
       "      <th>83859</th>\n",
       "      <td>83860</td>\n",
       "      <td>2</td>\n",
       "      <td>2022-02-10 18:32:54</td>\n",
       "      <td>2022-02-10 18:43:23</td>\n",
       "      <td>N</td>\n",
       "      <td>1.0</td>\n",
       "      <td>166</td>\n",
       "      <td>41</td>\n",
       "      <td>1.26</td>\n",
       "      <td>8.0</td>\n",
       "      <td>1.0</td>\n",
       "      <td>0.5</td>\n",
       "      <td>0.0</td>\n",
       "      <td>9.8</td>\n",
       "      <td>2.0</td>\n",
       "      <td>1.0</td>\n",
       "      <td>10.483333</td>\n",
       "      <td>16641</td>\n",
       "      <td>0.140000</td>\n",
       "      <td>0.630</td>\n",
       "      <td>4.900000</td>\n",
       "    </tr>\n",
       "    <tr>\n",
       "      <th>23687</th>\n",
       "      <td>23688</td>\n",
       "      <td>2</td>\n",
       "      <td>2022-01-14 00:08:22</td>\n",
       "      <td>2022-01-14 00:18:33</td>\n",
       "      <td>N</td>\n",
       "      <td>1.0</td>\n",
       "      <td>83</td>\n",
       "      <td>56</td>\n",
       "      <td>1.83</td>\n",
       "      <td>9.0</td>\n",
       "      <td>0.5</td>\n",
       "      <td>0.5</td>\n",
       "      <td>0.0</td>\n",
       "      <td>10.3</td>\n",
       "      <td>2.0</td>\n",
       "      <td>1.0</td>\n",
       "      <td>10.183333</td>\n",
       "      <td>8356</td>\n",
       "      <td>0.183000</td>\n",
       "      <td>0.915</td>\n",
       "      <td>6.866667</td>\n",
       "    </tr>\n",
       "    <tr>\n",
       "      <th>122483</th>\n",
       "      <td>122484</td>\n",
       "      <td>2</td>\n",
       "      <td>2022-02-28 08:17:56</td>\n",
       "      <td>2022-02-28 08:28:20</td>\n",
       "      <td>N</td>\n",
       "      <td>1.0</td>\n",
       "      <td>74</td>\n",
       "      <td>166</td>\n",
       "      <td>1.39</td>\n",
       "      <td>8.5</td>\n",
       "      <td>0.0</td>\n",
       "      <td>0.5</td>\n",
       "      <td>0.0</td>\n",
       "      <td>9.3</td>\n",
       "      <td>1.0</td>\n",
       "      <td>1.0</td>\n",
       "      <td>10.400000</td>\n",
       "      <td>74166</td>\n",
       "      <td>0.146316</td>\n",
       "      <td>0.695</td>\n",
       "      <td>9.300000</td>\n",
       "    </tr>\n",
       "  </tbody>\n",
       "</table>\n",
       "</div>"
      ],
      "text/plain": [
       "            id vendor_id lpep_pickup_datetime lpep_dropoff_datetime  \\\n",
       "83859    83860         2  2022-02-10 18:32:54   2022-02-10 18:43:23   \n",
       "23687    23688         2  2022-01-14 00:08:22   2022-01-14 00:18:33   \n",
       "122483  122484         2  2022-02-28 08:17:56   2022-02-28 08:28:20   \n",
       "\n",
       "       store_and_fwd_flag ratecode_id pu_location_id do_location_id  \\\n",
       "83859                   N         1.0            166             41   \n",
       "23687                   N         1.0             83             56   \n",
       "122483                  N         1.0             74            166   \n",
       "\n",
       "        trip_distance  fare_amount  extra  mta_tax  tip_amount  total_amount  \\\n",
       "83859            1.26          8.0    1.0      0.5         0.0           9.8   \n",
       "23687            1.83          9.0    0.5      0.5         0.0          10.3   \n",
       "122483           1.39          8.5    0.0      0.5         0.0           9.3   \n",
       "\n",
       "       payment_type trip_type   duration location_id  price_per_meter  \\\n",
       "83859           2.0       1.0  10.483333       16641         0.140000   \n",
       "23687           2.0       1.0  10.183333        8356         0.183000   \n",
       "122483          1.0       1.0  10.400000       74166         0.146316   \n",
       "\n",
       "        tax_per_meter  total_amount_per_extra  \n",
       "83859           0.630                4.900000  \n",
       "23687           0.915                6.866667  \n",
       "122483          0.695                9.300000  "
      ]
     },
     "execution_count": 50,
     "metadata": {},
     "output_type": "execute_result"
    }
   ],
   "source": [
    "df.sample(3)"
   ]
  },
  {
   "attachments": {},
   "cell_type": "markdown",
   "metadata": {},
   "source": [
    "# 3. Exploratory data analysis"
   ]
  },
  {
   "cell_type": "code",
   "execution_count": null,
   "metadata": {},
   "outputs": [],
   "source": []
  },
  {
   "cell_type": "code",
   "execution_count": null,
   "metadata": {},
   "outputs": [],
   "source": []
  },
  {
   "cell_type": "code",
   "execution_count": null,
   "metadata": {},
   "outputs": [],
   "source": []
  },
  {
   "cell_type": "code",
   "execution_count": 3,
   "metadata": {},
   "outputs": [],
   "source": [
    "# def preprocess_data(X: pd.DataFrame) -> np.ndarray:\n",
    "#     return DictVectorizer(sparse=False).fit_transform(\n",
    "#         X.to_dict(orient=\"records\")\n",
    "#     )\n",
    "\n",
    "# def train_model(\n",
    "#     X_train: np.ndarray,\n",
    "#     y_train: np.ndarray | pd.Series,\n",
    "#     model: RegressorMixin = HistGradientBoostingRegressor()\n",
    "# ) -> RegressorMixin:\n",
    "#     return model.fit(X_train, y_train)\n",
    "\n",
    "# def evaluate_model(\n",
    "#     y_val: np.ndarray | pd.Series,\n",
    "#     y_hat: np.ndarray | pd.Series\n",
    "# ) -> Dict[str, Dict[str, float]]:\n",
    "#     return {\n",
    "#         \"metrics\": {\n",
    "#                 \"rmse\": m.mean_squared_error(y_val, y_hat, squared=False),\n",
    "#                 \"mape\": m.mean_absolute_percentage_error(y_val, y_hat)\n",
    "#             },\n",
    "#         }"
   ]
  }
 ],
 "metadata": {
  "kernelspec": {
   "display_name": ".venv",
   "language": "python",
   "name": "python3"
  },
  "language_info": {
   "codemirror_mode": {
    "name": "ipython",
    "version": 3
   },
   "file_extension": ".py",
   "mimetype": "text/x-python",
   "name": "python",
   "nbconvert_exporter": "python",
   "pygments_lexer": "ipython3",
   "version": "3.10.9"
  },
  "orig_nbformat": 4,
  "vscode": {
   "interpreter": {
    "hash": "b7fff540e010754fd972ff45a151b11be58c9804a992cddf99d3363434a4026a"
   }
  }
 },
 "nbformat": 4,
 "nbformat_minor": 2
}
